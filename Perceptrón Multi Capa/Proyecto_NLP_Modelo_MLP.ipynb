{
  "nbformat": 4,
  "nbformat_minor": 0,
  "metadata": {
    "colab": {
      "provenance": [],
      "include_colab_link": true
    },
    "kernelspec": {
      "name": "python3",
      "display_name": "Python 3"
    },
    "language_info": {
      "name": "python"
    },
    "gpuClass": "standard",
    "accelerator": "GPU"
  },
  "cells": [
    {
      "cell_type": "markdown",
      "metadata": {
        "id": "view-in-github",
        "colab_type": "text"
      },
      "source": [
        "<a href=\"https://colab.research.google.com/github/JamesKevinStar/AnalisisSentimientos/blob/main/Perceptr%C3%B3n%20Multi%20Capa/Proyecto_NLP_Modelo_MLP.ipynb\" target=\"_parent\"><img src=\"https://colab.research.google.com/assets/colab-badge.svg\" alt=\"Open In Colab\"/></a>"
      ]
    },
    {
      "cell_type": "markdown",
      "source": [
        "# Ejercicio: Clasificación de Tweets de Covid 19 (Análisis de Sentimientos)"
      ],
      "metadata": {
        "id": "DVpvvQE0TJne"
      }
    },
    {
      "cell_type": "markdown",
      "source": [
        "#### <a name=\"Escritura\">Alumnos: </a>\n",
        "*   Estrella Vilca, James Kevin  -  182909\n",
        "*   Peña Luque, Raísa Melina     -  182927\n",
        "\n",
        "#### <a name=\"Escritura\">Asignatura: </a>\n",
        "*   Procesamiento de Lenguaje Natural\n",
        "\n",
        "#### <a name=\"Escritura\">Docente: </a>\n",
        "*   Zuñiga Rojas, Gabriela\n",
        "\n",
        "#### <a name=\"Escritura\">Universidad: </a>\n",
        "*   Universidad Nacional de San Antonio Abad del Cusco"
      ],
      "metadata": {
        "id": "EejzIsgnn4uK"
      }
    },
    {
      "cell_type": "markdown",
      "source": [
        "## Instalar Librerías Necesarias"
      ],
      "metadata": {
        "id": "k_ty_hVtTL_b"
      }
    },
    {
      "cell_type": "code",
      "execution_count": 1,
      "metadata": {
        "colab": {
          "base_uri": "https://localhost:8080/"
        },
        "id": "RbGLpMA8S4zW",
        "outputId": "8582b8b6-992c-472e-f728-b14852f16831"
      },
      "outputs": [
        {
          "output_type": "stream",
          "name": "stdout",
          "text": [
            "2023-02-24 23:25:26.564159: I tensorflow/core/platform/cpu_feature_guard.cc:193] This TensorFlow binary is optimized with oneAPI Deep Neural Network Library (oneDNN) to use the following CPU instructions in performance-critical operations:  AVX2 AVX512F FMA\n",
            "To enable them in other operations, rebuild TensorFlow with the appropriate compiler flags.\n",
            "2023-02-24 23:25:28.471087: W tensorflow/compiler/xla/stream_executor/platform/default/dso_loader.cc:64] Could not load dynamic library 'libnvinfer.so.7'; dlerror: libnvinfer.so.7: cannot open shared object file: No such file or directory; LD_LIBRARY_PATH: /usr/lib64-nvidia\n",
            "2023-02-24 23:25:28.471190: W tensorflow/compiler/xla/stream_executor/platform/default/dso_loader.cc:64] Could not load dynamic library 'libnvinfer_plugin.so.7'; dlerror: libnvinfer_plugin.so.7: cannot open shared object file: No such file or directory; LD_LIBRARY_PATH: /usr/lib64-nvidia\n",
            "2023-02-24 23:25:28.471207: W tensorflow/compiler/tf2tensorrt/utils/py_utils.cc:38] TF-TRT Warning: Cannot dlopen some TensorRT libraries. If you would like to use Nvidia GPU with TensorRT, please make sure the missing libraries mentioned above are installed properly.\n",
            "Looking in indexes: https://pypi.org/simple, https://us-python.pkg.dev/colab-wheels/public/simple/\n",
            "Collecting en-core-web-sm==3.4.1\n",
            "  Downloading https://github.com/explosion/spacy-models/releases/download/en_core_web_sm-3.4.1/en_core_web_sm-3.4.1-py3-none-any.whl (12.8 MB)\n",
            "\u001b[2K     \u001b[90m━━━━━━━━━━━━━━━━━━━━━━━━━━━━━━━━━━━━━━━━\u001b[0m \u001b[32m12.8/12.8 MB\u001b[0m \u001b[31m9.9 MB/s\u001b[0m eta \u001b[36m0:00:00\u001b[0m\n",
            "\u001b[?25hRequirement already satisfied: spacy<3.5.0,>=3.4.0 in /usr/local/lib/python3.8/dist-packages (from en-core-web-sm==3.4.1) (3.4.4)\n",
            "Requirement already satisfied: smart-open<7.0.0,>=5.2.1 in /usr/local/lib/python3.8/dist-packages (from spacy<3.5.0,>=3.4.0->en-core-web-sm==3.4.1) (6.3.0)\n",
            "Requirement already satisfied: spacy-loggers<2.0.0,>=1.0.0 in /usr/local/lib/python3.8/dist-packages (from spacy<3.5.0,>=3.4.0->en-core-web-sm==3.4.1) (1.0.4)\n",
            "Requirement already satisfied: packaging>=20.0 in /usr/local/lib/python3.8/dist-packages (from spacy<3.5.0,>=3.4.0->en-core-web-sm==3.4.1) (23.0)\n",
            "Requirement already satisfied: wasabi<1.1.0,>=0.9.1 in /usr/local/lib/python3.8/dist-packages (from spacy<3.5.0,>=3.4.0->en-core-web-sm==3.4.1) (0.10.1)\n",
            "Requirement already satisfied: spacy-legacy<3.1.0,>=3.0.10 in /usr/local/lib/python3.8/dist-packages (from spacy<3.5.0,>=3.4.0->en-core-web-sm==3.4.1) (3.0.12)\n",
            "Requirement already satisfied: jinja2 in /usr/local/lib/python3.8/dist-packages (from spacy<3.5.0,>=3.4.0->en-core-web-sm==3.4.1) (2.11.3)\n",
            "Requirement already satisfied: tqdm<5.0.0,>=4.38.0 in /usr/local/lib/python3.8/dist-packages (from spacy<3.5.0,>=3.4.0->en-core-web-sm==3.4.1) (4.64.1)\n",
            "Requirement already satisfied: thinc<8.2.0,>=8.1.0 in /usr/local/lib/python3.8/dist-packages (from spacy<3.5.0,>=3.4.0->en-core-web-sm==3.4.1) (8.1.7)\n",
            "Requirement already satisfied: cymem<2.1.0,>=2.0.2 in /usr/local/lib/python3.8/dist-packages (from spacy<3.5.0,>=3.4.0->en-core-web-sm==3.4.1) (2.0.7)\n",
            "Requirement already satisfied: typer<0.8.0,>=0.3.0 in /usr/local/lib/python3.8/dist-packages (from spacy<3.5.0,>=3.4.0->en-core-web-sm==3.4.1) (0.7.0)\n",
            "Requirement already satisfied: murmurhash<1.1.0,>=0.28.0 in /usr/local/lib/python3.8/dist-packages (from spacy<3.5.0,>=3.4.0->en-core-web-sm==3.4.1) (1.0.9)\n",
            "Requirement already satisfied: pydantic!=1.8,!=1.8.1,<1.11.0,>=1.7.4 in /usr/local/lib/python3.8/dist-packages (from spacy<3.5.0,>=3.4.0->en-core-web-sm==3.4.1) (1.10.5)\n",
            "Requirement already satisfied: langcodes<4.0.0,>=3.2.0 in /usr/local/lib/python3.8/dist-packages (from spacy<3.5.0,>=3.4.0->en-core-web-sm==3.4.1) (3.3.0)\n",
            "Requirement already satisfied: setuptools in /usr/local/lib/python3.8/dist-packages (from spacy<3.5.0,>=3.4.0->en-core-web-sm==3.4.1) (57.4.0)\n",
            "Requirement already satisfied: requests<3.0.0,>=2.13.0 in /usr/local/lib/python3.8/dist-packages (from spacy<3.5.0,>=3.4.0->en-core-web-sm==3.4.1) (2.25.1)\n",
            "Requirement already satisfied: srsly<3.0.0,>=2.4.3 in /usr/local/lib/python3.8/dist-packages (from spacy<3.5.0,>=3.4.0->en-core-web-sm==3.4.1) (2.4.5)\n",
            "Requirement already satisfied: preshed<3.1.0,>=3.0.2 in /usr/local/lib/python3.8/dist-packages (from spacy<3.5.0,>=3.4.0->en-core-web-sm==3.4.1) (3.0.8)\n",
            "Requirement already satisfied: numpy>=1.15.0 in /usr/local/lib/python3.8/dist-packages (from spacy<3.5.0,>=3.4.0->en-core-web-sm==3.4.1) (1.22.4)\n",
            "Requirement already satisfied: catalogue<2.1.0,>=2.0.6 in /usr/local/lib/python3.8/dist-packages (from spacy<3.5.0,>=3.4.0->en-core-web-sm==3.4.1) (2.0.8)\n",
            "Requirement already satisfied: pathy>=0.3.5 in /usr/local/lib/python3.8/dist-packages (from spacy<3.5.0,>=3.4.0->en-core-web-sm==3.4.1) (0.10.1)\n",
            "Requirement already satisfied: typing-extensions>=4.2.0 in /usr/local/lib/python3.8/dist-packages (from pydantic!=1.8,!=1.8.1,<1.11.0,>=1.7.4->spacy<3.5.0,>=3.4.0->en-core-web-sm==3.4.1) (4.5.0)\n",
            "Requirement already satisfied: idna<3,>=2.5 in /usr/local/lib/python3.8/dist-packages (from requests<3.0.0,>=2.13.0->spacy<3.5.0,>=3.4.0->en-core-web-sm==3.4.1) (2.10)\n",
            "Requirement already satisfied: urllib3<1.27,>=1.21.1 in /usr/local/lib/python3.8/dist-packages (from requests<3.0.0,>=2.13.0->spacy<3.5.0,>=3.4.0->en-core-web-sm==3.4.1) (1.24.3)\n",
            "Requirement already satisfied: chardet<5,>=3.0.2 in /usr/local/lib/python3.8/dist-packages (from requests<3.0.0,>=2.13.0->spacy<3.5.0,>=3.4.0->en-core-web-sm==3.4.1) (4.0.0)\n",
            "Requirement already satisfied: certifi>=2017.4.17 in /usr/local/lib/python3.8/dist-packages (from requests<3.0.0,>=2.13.0->spacy<3.5.0,>=3.4.0->en-core-web-sm==3.4.1) (2022.12.7)\n",
            "Requirement already satisfied: blis<0.8.0,>=0.7.8 in /usr/local/lib/python3.8/dist-packages (from thinc<8.2.0,>=8.1.0->spacy<3.5.0,>=3.4.0->en-core-web-sm==3.4.1) (0.7.9)\n",
            "Requirement already satisfied: confection<1.0.0,>=0.0.1 in /usr/local/lib/python3.8/dist-packages (from thinc<8.2.0,>=8.1.0->spacy<3.5.0,>=3.4.0->en-core-web-sm==3.4.1) (0.0.4)\n",
            "Requirement already satisfied: click<9.0.0,>=7.1.1 in /usr/local/lib/python3.8/dist-packages (from typer<0.8.0,>=0.3.0->spacy<3.5.0,>=3.4.0->en-core-web-sm==3.4.1) (7.1.2)\n",
            "Requirement already satisfied: MarkupSafe>=0.23 in /usr/local/lib/python3.8/dist-packages (from jinja2->spacy<3.5.0,>=3.4.0->en-core-web-sm==3.4.1) (2.0.1)\n",
            "\u001b[38;5;2m✔ Download and installation successful\u001b[0m\n",
            "You can now load the package via spacy.load('en_core_web_sm')\n",
            "Looking in indexes: https://pypi.org/simple, https://us-python.pkg.dev/colab-wheels/public/simple/\n",
            "Requirement already satisfied: scikit-learn in /usr/local/lib/python3.8/dist-packages (1.0.2)\n",
            "Requirement already satisfied: numpy>=1.14.6 in /usr/local/lib/python3.8/dist-packages (from scikit-learn) (1.22.4)\n",
            "Requirement already satisfied: threadpoolctl>=2.0.0 in /usr/local/lib/python3.8/dist-packages (from scikit-learn) (3.1.0)\n",
            "Requirement already satisfied: scipy>=1.1.0 in /usr/local/lib/python3.8/dist-packages (from scikit-learn) (1.7.3)\n",
            "Requirement already satisfied: joblib>=0.11 in /usr/local/lib/python3.8/dist-packages (from scikit-learn) (1.2.0)\n",
            "Looking in indexes: https://pypi.org/simple, https://us-python.pkg.dev/colab-wheels/public/simple/\n",
            "Requirement already satisfied: joblib in /usr/local/lib/python3.8/dist-packages (1.2.0)\n"
          ]
        }
      ],
      "source": [
        "!python -m spacy download en_core_web_sm\n",
        "!pip install scikit-learn\n",
        "!pip install joblib"
      ]
    },
    {
      "cell_type": "markdown",
      "source": [
        "## Importar Librerías"
      ],
      "metadata": {
        "id": "42_Ysf1kTaI0"
      }
    },
    {
      "cell_type": "code",
      "source": [
        "import matplotlib.pyplot as plt\n",
        "import tensorflow as tf\n",
        "import networkx as nx\n",
        "import pandas as pd\n",
        "import numpy as np\n",
        "import itertools\n",
        "import joblib\n",
        "import pickle\n",
        "import spacy\n",
        "import math\n",
        "import nltk\n",
        "import os\n",
        "import re\n",
        "\n",
        "from sklearn.metrics import accuracy_score, f1_score, precision_score, recall_score, confusion_matrix, classification_report\n",
        "from sklearn.feature_extraction.text import TfidfVectorizer\n",
        "from sklearn.feature_extraction.text import CountVectorizer\n",
        "from tensorflow.keras.preprocessing.text import Tokenizer\n",
        "from sklearn.model_selection import train_test_split\n",
        "from tensorflow.keras.layers import Dense, Dropout\n",
        "from tensorflow.python.client import device_lib\n",
        "from sklearn.preprocessing import LabelEncoder\n",
        "from tensorflow.keras.models import Sequential\n",
        "from tensorflow.keras import metrics\n",
        "from google.colab import drive\n",
        "from tqdm import tqdm"
      ],
      "metadata": {
        "id": "K5J_drsJTaw0"
      },
      "execution_count": 2,
      "outputs": []
    },
    {
      "cell_type": "markdown",
      "source": [
        "## Cargar Datos"
      ],
      "metadata": {
        "id": "0MRqRhW1TgEM"
      }
    },
    {
      "cell_type": "markdown",
      "source": [
        "#### <a name=\"Escritura\">Obtener los datos del Drive</a>"
      ],
      "metadata": {
        "id": "eWRfAsBMTihk"
      }
    },
    {
      "cell_type": "code",
      "source": [
        "drive.mount('/content/drive')\n",
        "%cd '/content/drive/My Drive/Procesamiento de Lenguaje Natural/Datos'\n",
        "print(os.listdir())"
      ],
      "metadata": {
        "colab": {
          "base_uri": "https://localhost:8080/"
        },
        "id": "Wp-OI6qeTgu8",
        "outputId": "412d85fb-5b56-4c55-cff1-2aa5620b2947"
      },
      "execution_count": 3,
      "outputs": [
        {
          "output_type": "stream",
          "name": "stdout",
          "text": [
            "Mounted at /content/drive\n",
            "/content/drive/My Drive/Procesamiento de Lenguaje Natural/Datos\n",
            "['Coronavirus_Total.xlsx', 'Corona_NLP_train.csv', 'Corona_NLP_test.csv']\n"
          ]
        }
      ]
    },
    {
      "cell_type": "markdown",
      "source": [
        "#### <a name=\"Escritura\">Mostrar los datos</a>"
      ],
      "metadata": {
        "id": "WQAB0K_tToCc"
      }
    },
    {
      "cell_type": "code",
      "source": [
        "data = pd.read_excel('Coronavirus_Total.xlsx')\n",
        "data.head()"
      ],
      "metadata": {
        "colab": {
          "base_uri": "https://localhost:8080/",
          "height": 206
        },
        "id": "WZc9h7JLTp98",
        "outputId": "96930801-d09a-4a04-f057-8f8daf55acd8"
      },
      "execution_count": 4,
      "outputs": [
        {
          "output_type": "execute_result",
          "data": {
            "text/plain": [
              "           Source.Name  UserName  ScreenName             Location    TweetAt  \\\n",
              "0  Corona_NLP_test.csv         1       44953                  NYC 2020-02-03   \n",
              "1  Corona_NLP_test.csv         2       44954          Seattle, WA 2020-02-03   \n",
              "2  Corona_NLP_test.csv         3       44955                  NaN 2020-02-03   \n",
              "3  Corona_NLP_test.csv         4       44956          Chicagoland 2020-02-03   \n",
              "4  Corona_NLP_test.csv         5       44957  Melbourne, Victoria 2020-03-03   \n",
              "\n",
              "                                       OriginalTweet           Sentiment  \n",
              "0  TRENDING: New Yorkers encounter empty supermar...  Extremely Negative  \n",
              "1  When I couldn't find hand sanitizer at Fred Me...            Positive  \n",
              "2  Find out how you can protect yourself and love...  Extremely Positive  \n",
              "3  #Panic buying hits #NewYork City as anxious sh...            Negative  \n",
              "4  #toiletpaper #dunnypaper #coronavirus #coronav...             Neutral  "
            ],
            "text/html": [
              "\n",
              "  <div id=\"df-ea0ba874-0acd-4798-a2bc-f1feed012e67\">\n",
              "    <div class=\"colab-df-container\">\n",
              "      <div>\n",
              "<style scoped>\n",
              "    .dataframe tbody tr th:only-of-type {\n",
              "        vertical-align: middle;\n",
              "    }\n",
              "\n",
              "    .dataframe tbody tr th {\n",
              "        vertical-align: top;\n",
              "    }\n",
              "\n",
              "    .dataframe thead th {\n",
              "        text-align: right;\n",
              "    }\n",
              "</style>\n",
              "<table border=\"1\" class=\"dataframe\">\n",
              "  <thead>\n",
              "    <tr style=\"text-align: right;\">\n",
              "      <th></th>\n",
              "      <th>Source.Name</th>\n",
              "      <th>UserName</th>\n",
              "      <th>ScreenName</th>\n",
              "      <th>Location</th>\n",
              "      <th>TweetAt</th>\n",
              "      <th>OriginalTweet</th>\n",
              "      <th>Sentiment</th>\n",
              "    </tr>\n",
              "  </thead>\n",
              "  <tbody>\n",
              "    <tr>\n",
              "      <th>0</th>\n",
              "      <td>Corona_NLP_test.csv</td>\n",
              "      <td>1</td>\n",
              "      <td>44953</td>\n",
              "      <td>NYC</td>\n",
              "      <td>2020-02-03</td>\n",
              "      <td>TRENDING: New Yorkers encounter empty supermar...</td>\n",
              "      <td>Extremely Negative</td>\n",
              "    </tr>\n",
              "    <tr>\n",
              "      <th>1</th>\n",
              "      <td>Corona_NLP_test.csv</td>\n",
              "      <td>2</td>\n",
              "      <td>44954</td>\n",
              "      <td>Seattle, WA</td>\n",
              "      <td>2020-02-03</td>\n",
              "      <td>When I couldn't find hand sanitizer at Fred Me...</td>\n",
              "      <td>Positive</td>\n",
              "    </tr>\n",
              "    <tr>\n",
              "      <th>2</th>\n",
              "      <td>Corona_NLP_test.csv</td>\n",
              "      <td>3</td>\n",
              "      <td>44955</td>\n",
              "      <td>NaN</td>\n",
              "      <td>2020-02-03</td>\n",
              "      <td>Find out how you can protect yourself and love...</td>\n",
              "      <td>Extremely Positive</td>\n",
              "    </tr>\n",
              "    <tr>\n",
              "      <th>3</th>\n",
              "      <td>Corona_NLP_test.csv</td>\n",
              "      <td>4</td>\n",
              "      <td>44956</td>\n",
              "      <td>Chicagoland</td>\n",
              "      <td>2020-02-03</td>\n",
              "      <td>#Panic buying hits #NewYork City as anxious sh...</td>\n",
              "      <td>Negative</td>\n",
              "    </tr>\n",
              "    <tr>\n",
              "      <th>4</th>\n",
              "      <td>Corona_NLP_test.csv</td>\n",
              "      <td>5</td>\n",
              "      <td>44957</td>\n",
              "      <td>Melbourne, Victoria</td>\n",
              "      <td>2020-03-03</td>\n",
              "      <td>#toiletpaper #dunnypaper #coronavirus #coronav...</td>\n",
              "      <td>Neutral</td>\n",
              "    </tr>\n",
              "  </tbody>\n",
              "</table>\n",
              "</div>\n",
              "      <button class=\"colab-df-convert\" onclick=\"convertToInteractive('df-ea0ba874-0acd-4798-a2bc-f1feed012e67')\"\n",
              "              title=\"Convert this dataframe to an interactive table.\"\n",
              "              style=\"display:none;\">\n",
              "        \n",
              "  <svg xmlns=\"http://www.w3.org/2000/svg\" height=\"24px\"viewBox=\"0 0 24 24\"\n",
              "       width=\"24px\">\n",
              "    <path d=\"M0 0h24v24H0V0z\" fill=\"none\"/>\n",
              "    <path d=\"M18.56 5.44l.94 2.06.94-2.06 2.06-.94-2.06-.94-.94-2.06-.94 2.06-2.06.94zm-11 1L8.5 8.5l.94-2.06 2.06-.94-2.06-.94L8.5 2.5l-.94 2.06-2.06.94zm10 10l.94 2.06.94-2.06 2.06-.94-2.06-.94-.94-2.06-.94 2.06-2.06.94z\"/><path d=\"M17.41 7.96l-1.37-1.37c-.4-.4-.92-.59-1.43-.59-.52 0-1.04.2-1.43.59L10.3 9.45l-7.72 7.72c-.78.78-.78 2.05 0 2.83L4 21.41c.39.39.9.59 1.41.59.51 0 1.02-.2 1.41-.59l7.78-7.78 2.81-2.81c.8-.78.8-2.07 0-2.86zM5.41 20L4 18.59l7.72-7.72 1.47 1.35L5.41 20z\"/>\n",
              "  </svg>\n",
              "      </button>\n",
              "      \n",
              "  <style>\n",
              "    .colab-df-container {\n",
              "      display:flex;\n",
              "      flex-wrap:wrap;\n",
              "      gap: 12px;\n",
              "    }\n",
              "\n",
              "    .colab-df-convert {\n",
              "      background-color: #E8F0FE;\n",
              "      border: none;\n",
              "      border-radius: 50%;\n",
              "      cursor: pointer;\n",
              "      display: none;\n",
              "      fill: #1967D2;\n",
              "      height: 32px;\n",
              "      padding: 0 0 0 0;\n",
              "      width: 32px;\n",
              "    }\n",
              "\n",
              "    .colab-df-convert:hover {\n",
              "      background-color: #E2EBFA;\n",
              "      box-shadow: 0px 1px 2px rgba(60, 64, 67, 0.3), 0px 1px 3px 1px rgba(60, 64, 67, 0.15);\n",
              "      fill: #174EA6;\n",
              "    }\n",
              "\n",
              "    [theme=dark] .colab-df-convert {\n",
              "      background-color: #3B4455;\n",
              "      fill: #D2E3FC;\n",
              "    }\n",
              "\n",
              "    [theme=dark] .colab-df-convert:hover {\n",
              "      background-color: #434B5C;\n",
              "      box-shadow: 0px 1px 3px 1px rgba(0, 0, 0, 0.15);\n",
              "      filter: drop-shadow(0px 1px 2px rgba(0, 0, 0, 0.3));\n",
              "      fill: #FFFFFF;\n",
              "    }\n",
              "  </style>\n",
              "\n",
              "      <script>\n",
              "        const buttonEl =\n",
              "          document.querySelector('#df-ea0ba874-0acd-4798-a2bc-f1feed012e67 button.colab-df-convert');\n",
              "        buttonEl.style.display =\n",
              "          google.colab.kernel.accessAllowed ? 'block' : 'none';\n",
              "\n",
              "        async function convertToInteractive(key) {\n",
              "          const element = document.querySelector('#df-ea0ba874-0acd-4798-a2bc-f1feed012e67');\n",
              "          const dataTable =\n",
              "            await google.colab.kernel.invokeFunction('convertToInteractive',\n",
              "                                                     [key], {});\n",
              "          if (!dataTable) return;\n",
              "\n",
              "          const docLinkHtml = 'Like what you see? Visit the ' +\n",
              "            '<a target=\"_blank\" href=https://colab.research.google.com/notebooks/data_table.ipynb>data table notebook</a>'\n",
              "            + ' to learn more about interactive tables.';\n",
              "          element.innerHTML = '';\n",
              "          dataTable['output_type'] = 'display_data';\n",
              "          await google.colab.output.renderOutput(dataTable, element);\n",
              "          const docLink = document.createElement('div');\n",
              "          docLink.innerHTML = docLinkHtml;\n",
              "          element.appendChild(docLink);\n",
              "        }\n",
              "      </script>\n",
              "    </div>\n",
              "  </div>\n",
              "  "
            ]
          },
          "metadata": {},
          "execution_count": 4
        }
      ]
    },
    {
      "cell_type": "markdown",
      "source": [
        "#### <a name=\"Escritura\">Eliminar las columnas innecesarias</a>"
      ],
      "metadata": {
        "id": "NfVrVnQuTs1M"
      }
    },
    {
      "cell_type": "code",
      "source": [
        "data.pop('Source.Name')\n",
        "data.pop('UserName')\n",
        "data.pop('ScreenName')\n",
        "data.pop('Location')\n",
        "data.pop('TweetAt')\n",
        "data.head()"
      ],
      "metadata": {
        "colab": {
          "base_uri": "https://localhost:8080/",
          "height": 206
        },
        "id": "GwWE9E0xTuiO",
        "outputId": "2041c06b-b5bb-46cc-e4d3-7bd642adbfbf"
      },
      "execution_count": 5,
      "outputs": [
        {
          "output_type": "execute_result",
          "data": {
            "text/plain": [
              "                                       OriginalTweet           Sentiment\n",
              "0  TRENDING: New Yorkers encounter empty supermar...  Extremely Negative\n",
              "1  When I couldn't find hand sanitizer at Fred Me...            Positive\n",
              "2  Find out how you can protect yourself and love...  Extremely Positive\n",
              "3  #Panic buying hits #NewYork City as anxious sh...            Negative\n",
              "4  #toiletpaper #dunnypaper #coronavirus #coronav...             Neutral"
            ],
            "text/html": [
              "\n",
              "  <div id=\"df-859fe6f0-88aa-4329-bc05-040fc1a09ba5\">\n",
              "    <div class=\"colab-df-container\">\n",
              "      <div>\n",
              "<style scoped>\n",
              "    .dataframe tbody tr th:only-of-type {\n",
              "        vertical-align: middle;\n",
              "    }\n",
              "\n",
              "    .dataframe tbody tr th {\n",
              "        vertical-align: top;\n",
              "    }\n",
              "\n",
              "    .dataframe thead th {\n",
              "        text-align: right;\n",
              "    }\n",
              "</style>\n",
              "<table border=\"1\" class=\"dataframe\">\n",
              "  <thead>\n",
              "    <tr style=\"text-align: right;\">\n",
              "      <th></th>\n",
              "      <th>OriginalTweet</th>\n",
              "      <th>Sentiment</th>\n",
              "    </tr>\n",
              "  </thead>\n",
              "  <tbody>\n",
              "    <tr>\n",
              "      <th>0</th>\n",
              "      <td>TRENDING: New Yorkers encounter empty supermar...</td>\n",
              "      <td>Extremely Negative</td>\n",
              "    </tr>\n",
              "    <tr>\n",
              "      <th>1</th>\n",
              "      <td>When I couldn't find hand sanitizer at Fred Me...</td>\n",
              "      <td>Positive</td>\n",
              "    </tr>\n",
              "    <tr>\n",
              "      <th>2</th>\n",
              "      <td>Find out how you can protect yourself and love...</td>\n",
              "      <td>Extremely Positive</td>\n",
              "    </tr>\n",
              "    <tr>\n",
              "      <th>3</th>\n",
              "      <td>#Panic buying hits #NewYork City as anxious sh...</td>\n",
              "      <td>Negative</td>\n",
              "    </tr>\n",
              "    <tr>\n",
              "      <th>4</th>\n",
              "      <td>#toiletpaper #dunnypaper #coronavirus #coronav...</td>\n",
              "      <td>Neutral</td>\n",
              "    </tr>\n",
              "  </tbody>\n",
              "</table>\n",
              "</div>\n",
              "      <button class=\"colab-df-convert\" onclick=\"convertToInteractive('df-859fe6f0-88aa-4329-bc05-040fc1a09ba5')\"\n",
              "              title=\"Convert this dataframe to an interactive table.\"\n",
              "              style=\"display:none;\">\n",
              "        \n",
              "  <svg xmlns=\"http://www.w3.org/2000/svg\" height=\"24px\"viewBox=\"0 0 24 24\"\n",
              "       width=\"24px\">\n",
              "    <path d=\"M0 0h24v24H0V0z\" fill=\"none\"/>\n",
              "    <path d=\"M18.56 5.44l.94 2.06.94-2.06 2.06-.94-2.06-.94-.94-2.06-.94 2.06-2.06.94zm-11 1L8.5 8.5l.94-2.06 2.06-.94-2.06-.94L8.5 2.5l-.94 2.06-2.06.94zm10 10l.94 2.06.94-2.06 2.06-.94-2.06-.94-.94-2.06-.94 2.06-2.06.94z\"/><path d=\"M17.41 7.96l-1.37-1.37c-.4-.4-.92-.59-1.43-.59-.52 0-1.04.2-1.43.59L10.3 9.45l-7.72 7.72c-.78.78-.78 2.05 0 2.83L4 21.41c.39.39.9.59 1.41.59.51 0 1.02-.2 1.41-.59l7.78-7.78 2.81-2.81c.8-.78.8-2.07 0-2.86zM5.41 20L4 18.59l7.72-7.72 1.47 1.35L5.41 20z\"/>\n",
              "  </svg>\n",
              "      </button>\n",
              "      \n",
              "  <style>\n",
              "    .colab-df-container {\n",
              "      display:flex;\n",
              "      flex-wrap:wrap;\n",
              "      gap: 12px;\n",
              "    }\n",
              "\n",
              "    .colab-df-convert {\n",
              "      background-color: #E8F0FE;\n",
              "      border: none;\n",
              "      border-radius: 50%;\n",
              "      cursor: pointer;\n",
              "      display: none;\n",
              "      fill: #1967D2;\n",
              "      height: 32px;\n",
              "      padding: 0 0 0 0;\n",
              "      width: 32px;\n",
              "    }\n",
              "\n",
              "    .colab-df-convert:hover {\n",
              "      background-color: #E2EBFA;\n",
              "      box-shadow: 0px 1px 2px rgba(60, 64, 67, 0.3), 0px 1px 3px 1px rgba(60, 64, 67, 0.15);\n",
              "      fill: #174EA6;\n",
              "    }\n",
              "\n",
              "    [theme=dark] .colab-df-convert {\n",
              "      background-color: #3B4455;\n",
              "      fill: #D2E3FC;\n",
              "    }\n",
              "\n",
              "    [theme=dark] .colab-df-convert:hover {\n",
              "      background-color: #434B5C;\n",
              "      box-shadow: 0px 1px 3px 1px rgba(0, 0, 0, 0.15);\n",
              "      filter: drop-shadow(0px 1px 2px rgba(0, 0, 0, 0.3));\n",
              "      fill: #FFFFFF;\n",
              "    }\n",
              "  </style>\n",
              "\n",
              "      <script>\n",
              "        const buttonEl =\n",
              "          document.querySelector('#df-859fe6f0-88aa-4329-bc05-040fc1a09ba5 button.colab-df-convert');\n",
              "        buttonEl.style.display =\n",
              "          google.colab.kernel.accessAllowed ? 'block' : 'none';\n",
              "\n",
              "        async function convertToInteractive(key) {\n",
              "          const element = document.querySelector('#df-859fe6f0-88aa-4329-bc05-040fc1a09ba5');\n",
              "          const dataTable =\n",
              "            await google.colab.kernel.invokeFunction('convertToInteractive',\n",
              "                                                     [key], {});\n",
              "          if (!dataTable) return;\n",
              "\n",
              "          const docLinkHtml = 'Like what you see? Visit the ' +\n",
              "            '<a target=\"_blank\" href=https://colab.research.google.com/notebooks/data_table.ipynb>data table notebook</a>'\n",
              "            + ' to learn more about interactive tables.';\n",
              "          element.innerHTML = '';\n",
              "          dataTable['output_type'] = 'display_data';\n",
              "          await google.colab.output.renderOutput(dataTable, element);\n",
              "          const docLink = document.createElement('div');\n",
              "          docLink.innerHTML = docLinkHtml;\n",
              "          element.appendChild(docLink);\n",
              "        }\n",
              "      </script>\n",
              "    </div>\n",
              "  </div>\n",
              "  "
            ]
          },
          "metadata": {},
          "execution_count": 5
        }
      ]
    },
    {
      "cell_type": "markdown",
      "source": [
        "#### <a name=\"Escritura\">Dividir los datos para test y train</a>"
      ],
      "metadata": {
        "id": "fuH8vvj3T11U"
      }
    },
    {
      "cell_type": "code",
      "source": [
        "x = data.drop([\"Sentiment\"],axis=1).values\n",
        "y = data[\"Sentiment\"].values\n",
        "\n",
        "X_train, X_test, Y_train, Y_test = train_test_split(x, y, test_size=0.07, random_state=20000901)"
      ],
      "metadata": {
        "id": "7DAzGU9oT2V0"
      },
      "execution_count": 6,
      "outputs": []
    },
    {
      "cell_type": "markdown",
      "source": [
        "## Normalización"
      ],
      "metadata": {
        "id": "oU0OLEBYT6Uk"
      }
    },
    {
      "cell_type": "markdown",
      "source": [
        "#### <a name=\"Escritura\">Reemplazar los saltos de líneas y demás</a>"
      ],
      "metadata": {
        "id": "-n4kQ2E4T67z"
      }
    },
    {
      "cell_type": "code",
      "source": [
        "for tweet in X_train:\n",
        "  tweet[0]=tweet[0].replace('\\n',' ')\n",
        "  tweet[0]=tweet[0].replace('\\r',' ')\n",
        "  tweet[0]=tweet[0].replace('\\t',' ')\n",
        "\n",
        "for tweet in X_test:\n",
        "  tweet[0]=tweet[0].replace('\\n',' ')\n",
        "  tweet[0]=tweet[0].replace('\\r',' ')\n",
        "  tweet[0]=tweet[0].replace('\\t',' ')"
      ],
      "metadata": {
        "id": "4SopqL1LT838"
      },
      "execution_count": 7,
      "outputs": []
    },
    {
      "cell_type": "markdown",
      "source": [
        "#### <a name=\"Escritura\">Normalizar los datos de test y train</a>"
      ],
      "metadata": {
        "id": "oYfXCm1jT-nM"
      }
    },
    {
      "cell_type": "code",
      "source": [
        "nlp = spacy.load('en_core_web_sm')\n",
        "\n",
        "X_train_N = [doc[0] for doc in X_train]\n",
        "Y_train_N = [doc for doc in Y_train]\n",
        "\n",
        "X_test_N = [doc[0] for doc in X_test]\n",
        "Y_test_N = [doc for doc in Y_test]\n",
        "\n",
        "def normalize(sentenses):\n",
        "    \"\"\"normalizamos la lista de frases y devolvemos la misma lista de frases normalizada\"\"\"\n",
        "    for index, sentense in enumerate(tqdm(sentenses)):\n",
        "        sentense = nlp(sentense.lower())\n",
        "        New_Words = []\n",
        "        for word in sentense:\n",
        "            if (not word.is_punct) and (not word.is_stop or (word.text == 'no' or word.text == 'not')) and (not word.text.startswith('@')) and (not word.text.startswith('http')) and (not word.text.startswith('#')) and (not word.text.endswith('.com')) and (not word.text.endswith('.co')) and (not word.text.endswith('.uk')) and (any(map(str.isdigit, word.text)) == False):\n",
        "                pattern = re.sub(pattern='[^a-z]',repl=' ',string=word.lemma_)\n",
        "                for p in pattern.split():\n",
        "                    if len(p) > 2 or p == 'no':\n",
        "                        New_Words.append(pattern)\n",
        "        sentenses[index] = ' '.join(New_Words)\n",
        "    return sentenses\n",
        "\n",
        "# Normalizamos las frases\n",
        "X_train_BW = normalize(X_train_N)\n",
        "X_test_BW = normalize(X_test_N)"
      ],
      "metadata": {
        "colab": {
          "base_uri": "https://localhost:8080/"
        },
        "id": "X7ceBAV0UAd8",
        "outputId": "1198762d-d711-44ba-a983-934876ae9c7b"
      },
      "execution_count": 8,
      "outputs": [
        {
          "output_type": "stream",
          "name": "stderr",
          "text": [
            "100%|██████████| 41808/41808 [08:03<00:00, 86.51it/s]\n",
            "100%|██████████| 3147/3147 [00:35<00:00, 89.63it/s] \n"
          ]
        }
      ]
    },
    {
      "cell_type": "markdown",
      "source": [
        "#### <a name=\"Escritura\">Dar formato a los datos y eliminar los vacíos tanto en los datos como las etiquetas</a>"
      ],
      "metadata": {
        "id": "n89Mi0nXUEBs"
      }
    },
    {
      "cell_type": "code",
      "source": [
        "def Formato(data,tags):\n",
        "  X = []\n",
        "  Y = []\n",
        "  for i in range(len(data)):\n",
        "    if data[i] != '':\n",
        "      lista = []\n",
        "      for w in data[i].split():\n",
        "        lista.append(w)\n",
        "      X.append(lista)\n",
        "      Y.append(tags[i])\n",
        "  return X,Y\n",
        "\n",
        "X_train_Norm,Y_train_Norm = Formato(X_train_BW,Y_train_N)\n",
        "X_test_Norm,Y_test_Norm = Formato(X_test_BW,Y_test_N)\n",
        "\n",
        "print(str(len(X_train_Norm))+':',X_train_Norm[0:5])\n",
        "print(str(len(Y_train_Norm))+':',Y_train_Norm[0:5])\n",
        "print(str(len(X_test_Norm))+':',X_test_Norm[0:5])\n",
        "print(str(len(Y_test_Norm))+':',Y_test_Norm[0:5])"
      ],
      "metadata": {
        "colab": {
          "base_uri": "https://localhost:8080/"
        },
        "id": "AuA__hY-UH4U",
        "outputId": "5b2d3a5c-f9de-456a-a74f-d277a5d7cf78"
      },
      "execution_count": 9,
      "outputs": [
        {
          "output_type": "stream",
          "name": "stdout",
          "text": [
            "41761: [['oio', 'casino', 'egcc', 'btc', 'soon', 'news', 'pandemic', 'spread', 'world', 'stock', 'forex', 'cryptocurrencie', 'see', 'huge', 'fall', 'price', 'bitc', 'read'], ['podcast', 'coronavirus', 'outbreak', 'protest', 'retail', 'store', 'closure'], ['online', 'shopping', 'benefit', 'short', 'term', 'supply', 'chain', 'issue', 'uncertain', 'consumer', 'demand', 'dampen', 'commerce', 'outlook', 'coronavirus', 'affect', 'ecommerce', 'world'], ['hilarious', 'scary', 'tragic', 'could', 'buy', 'little', 'please', 'panic', 'buy', 'disrupt', 'food', 'distribution', 'coronavirus', 'outbreak', 'guardian', 'pandemic'], ['hand', 'sanitize', 'safe', 'let', 'minimise', 'chance', 'contract', 'deadly', 'large', 'portable', 'hand', 'sanitizer', 'amp', 'face', 'mask', 'available', 'order', 'deliver', 'doorstep', 'kampala']]\n",
            "41761: ['Positive', 'Negative', 'Positive', 'Extremely Negative', 'Extremely Positive']\n",
            "3146: [['lady', 'need', 'eye', 'talk', 'yes', 'dad', 'bod', 'supply', 'eat', 'week', 'eyesuphere', 'dadbod', 'coronavirus', 'nofood'], ['run', 'supermarket', 'public', 'gathering', 'store', 'essential', 'need', 'bay', 'need', 'sanitization', 'product', 'order', 'online', 'rest', 'staysafe', 'jpak', 'shippingtoja', 'onlineshoppe', 'lysol'], ['psa', 'grocery', 'store', 'absolutely', 'need', 'not', 'bring', 'family', 'person', 'household', 'need', 'come'], ['not', 'able', 'continue', 'regular', 'shopping', 'perfect', 'opportunity', 'support', 'bfa', 'shop', 'essential', 'online'], ['no', 'not', 'photo', 'local', 'supermarket', 'scene', 'john', 'goodman', 'hit', 'comedy', 'matinee', 'set', 'cuban', 'missile', 'crisis', 'you', 've', 'see', 'check', 'great', 'fun', 'coronavirus']]\n",
            "3146: ['Positive', 'Neutral', 'Neutral', 'Extremely Positive', 'Positive']\n"
          ]
        }
      ]
    },
    {
      "cell_type": "markdown",
      "source": [
        "#### <a name=\"Escritura\">Normalizar las etiquetas de test y train</a>"
      ],
      "metadata": {
        "id": "BlGqP-x3ULSl"
      }
    },
    {
      "cell_type": "code",
      "source": [
        "encoder = LabelEncoder()\n",
        "encoder.fit(Y_train_Norm)\n",
        "Y_matrix_train = encoder.transform(Y_train_Norm)\n",
        "Y_matrix_test = encoder.transform(Y_test_Norm)\n",
        "print(Y_matrix_train[0:21])\n",
        "print(Y_matrix_test[0:21])"
      ],
      "metadata": {
        "colab": {
          "base_uri": "https://localhost:8080/"
        },
        "id": "WfS1rkQxUNBt",
        "outputId": "3bced990-dba4-425b-f341-e4fef47b7820"
      },
      "execution_count": 10,
      "outputs": [
        {
          "output_type": "stream",
          "name": "stdout",
          "text": [
            "[4 2 4 0 1 3 1 4 3 1 4 3 3 3 4 1 1 0 3 4 2]\n",
            "[4 3 3 1 4 0 2 4 2 3 0 4 1 3 2 4 4 3 0 4 2]\n"
          ]
        }
      ]
    },
    {
      "cell_type": "markdown",
      "source": [
        "#### <a name=\"Escritura\">Guardar los datos normalizados</a>"
      ],
      "metadata": {
        "id": "GhByeqI6VUnc"
      }
    },
    {
      "cell_type": "code",
      "source": [
        "Ruta = '/content/drive/My Drive/Procesamiento de Lenguaje Natural/Datos Normalizados/'\n",
        "Filename = [Ruta + 'X_Normalizado_Train.pickle',Ruta + 'Y_Normalizado_Train.pickle',Ruta + 'X_Normalizado_Test.pickle',Ruta + 'Y_Normalizado_Test.pickle']\n",
        "Data = [X_train_Norm,Y_matrix_train,X_test_Norm,Y_matrix_test]\n",
        "for i in range(len(Filename)):\n",
        "  Save_List = open(Filename[i],'wb')\n",
        "  pickle.dump(Data[i],Save_List)\n",
        "  Save_List.close()"
      ],
      "metadata": {
        "id": "Yc0Em9P2VVRU"
      },
      "execution_count": null,
      "outputs": []
    },
    {
      "cell_type": "markdown",
      "source": [
        "#### <a name=\"Escritura\">Cargar los datos normalizados</a>"
      ],
      "metadata": {
        "id": "10T5l4IaVW-d"
      }
    },
    {
      "cell_type": "code",
      "source": [
        "Ruta = '/content/drive/My Drive/Procesamiento de Lenguaje Natural/Datos Normalizados/'\n",
        "Filename = [Ruta + 'X_Normalizado_Train.pickle',Ruta + 'Y_Normalizado_Train.pickle',Ruta + 'X_Normalizado_Test.pickle',Ruta + 'Y_Normalizado_Test.pickle']\n",
        "\n",
        "X_train_Norm = pickle.load(open(Filename[0], 'rb'))\n",
        "Y_matrix_train = pickle.load(open(Filename[1], 'rb'))\n",
        "X_test_Norm = pickle.load(open(Filename[2], 'rb'))\n",
        "Y_matrix_test = pickle.load(open(Filename[3], 'rb'))"
      ],
      "metadata": {
        "id": "-iQ8tKbtVaQ0"
      },
      "execution_count": null,
      "outputs": []
    },
    {
      "cell_type": "markdown",
      "source": [
        "## Bolsa de Palabras"
      ],
      "metadata": {
        "id": "J2ay-VzcVd-N"
      }
    },
    {
      "cell_type": "markdown",
      "source": [
        "#### <a name=\"Escritura\">Obtener la matriz para el entrenamiento</a>"
      ],
      "metadata": {
        "id": "UrcPv69XVejM"
      }
    },
    {
      "cell_type": "code",
      "source": [
        "num_words = 4000\n",
        "\n",
        "tokenizer = Tokenizer(num_words=num_words)\n",
        "tokenizer.fit_on_texts(X_train_Norm)\n",
        "X_matrix_train = tokenizer.texts_to_matrix(X_train_Norm, mode='count')\n",
        "X_matrix_test = tokenizer.texts_to_matrix(X_test_Norm, mode='count')\n",
        "\n",
        "print('Dimensión de la matriz de entrenamiento: {dim}\\n'.format(dim=X_matrix_train.shape))\n",
        "print('Bolsa de palabras de los datos de entrenamiento:\\n{bolsa}\\n'.format(bolsa=dict(list(tokenizer.word_counts.items())[0:10])))\n",
        "print('Índice de las palabras en la Matriz:\\n{index}\\n'.format(index=dict(list(tokenizer.word_index.items())[0:10])))\n",
        "print('Matriz de entrenamiento:\\n{matrix}\\n'.format(matrix=X_matrix_train[:,0:5]))\n",
        "print('Matriz de test:\\n{matrix}\\n'.format(matrix=X_matrix_test[:,0:5]))\n",
        "\n",
        "print(len(tokenizer.word_counts))"
      ],
      "metadata": {
        "colab": {
          "base_uri": "https://localhost:8080/"
        },
        "id": "qEIZlzc0Vhcd",
        "outputId": "cf645103-9973-4f47-81dd-d88bb19f9225"
      },
      "execution_count": 11,
      "outputs": [
        {
          "output_type": "stream",
          "name": "stdout",
          "text": [
            "Dimensión de la matriz de entrenamiento: (41761, 4000)\n",
            "\n",
            "Bolsa de palabras de los datos de entrenamiento:\n",
            "{'oio': 2, 'casino': 12, 'egcc': 1, 'btc': 22, 'soon': 292, 'news': 789, 'pandemic': 2957, 'spread': 1260, 'world': 989, 'stock': 3205}\n",
            "\n",
            "Índice de las palabras en la Matriz:\n",
            "{'coronavirus': 1, 'store': 2, 'price': 3, 'food': 4, 'supermarket': 5, 'grocery': 6, 'people': 7, 'amp': 8, 'not': 9, 'consumer': 10}\n",
            "\n",
            "Matriz de entrenamiento:\n",
            "[[0. 0. 0. 1. 0.]\n",
            " [0. 1. 1. 0. 0.]\n",
            " [0. 1. 0. 0. 0.]\n",
            " ...\n",
            " [0. 0. 1. 0. 0.]\n",
            " [0. 1. 0. 0. 0.]\n",
            " [0. 0. 0. 0. 0.]]\n",
            "\n",
            "Matriz de test:\n",
            "[[0. 1. 0. 0. 0.]\n",
            " [0. 0. 1. 0. 0.]\n",
            " [0. 0. 1. 0. 0.]\n",
            " ...\n",
            " [0. 0. 0. 1. 0.]\n",
            " [0. 1. 0. 0. 0.]\n",
            " [0. 1. 1. 0. 0.]]\n",
            "\n",
            "36149\n"
          ]
        }
      ]
    },
    {
      "cell_type": "markdown",
      "source": [
        "## Definición de Red Neuronal"
      ],
      "metadata": {
        "id": "E4mmWpKOVlMF"
      }
    },
    {
      "cell_type": "markdown",
      "source": [
        "#### <a name=\"Escritura\">Definir la arquitectura de la red neuronal</a>"
      ],
      "metadata": {
        "id": "_-IcCmhRVl5d"
      }
    },
    {
      "cell_type": "code",
      "source": [
        "np.random.seed(0)\n",
        "model = Sequential()\n",
        "model.add(Dense(4000, activation='relu', input_dim=num_words))\n",
        "model.add(Dropout(0.1))\n",
        "model.add(Dense(3651, activation='relu'))\n",
        "model.add(Dropout(0.1))\n",
        "model.add(Dense(3275, activation='relu'))\n",
        "model.add(Dropout(0.1))\n",
        "model.add(Dense(2742, activation='relu'))\n",
        "model.add(Dropout(0.1))\n",
        "model.add(Dense(2392, activation='relu'))\n",
        "model.add(Dropout(0.1))\n",
        "model.add(Dense(1874, activation='relu'))\n",
        "model.add(Dropout(0.1))\n",
        "model.add(Dense(1278, activation='relu'))\n",
        "model.add(Dropout(0.1))\n",
        "model.add(Dense(713, activation='relu'))\n",
        "model.add(Dropout(0.1))\n",
        "model.add(Dense(395, activation='relu'))\n",
        "model.add(Dropout(0.1))\n",
        "model.add(Dense(132, activation='relu'))\n",
        "model.add(Dropout(0.1))\n",
        "model.add(Dense(63, activation='relu'))\n",
        "model.add(Dropout(0.1))\n",
        "model.add(Dense(18, activation='relu'))\n",
        "model.add(Dropout(0.1))\n",
        "model.add(Dense(5, activation='softmax'))\n",
        "model.compile(loss='sparse_categorical_crossentropy', optimizer='Adam', metrics=['accuracy'])\n",
        "model.summary()"
      ],
      "metadata": {
        "colab": {
          "base_uri": "https://localhost:8080/"
        },
        "id": "gy3710J_VnoM",
        "outputId": "805a958c-6402-4ef1-ff7a-793c98c99d02"
      },
      "execution_count": null,
      "outputs": [
        {
          "output_type": "stream",
          "name": "stdout",
          "text": [
            "Model: \"sequential_2\"\n",
            "_________________________________________________________________\n",
            " Layer (type)                Output Shape              Param #   \n",
            "=================================================================\n",
            " dense_26 (Dense)            (None, 4000)              16004000  \n",
            "                                                                 \n",
            " dropout_24 (Dropout)        (None, 4000)              0         \n",
            "                                                                 \n",
            " dense_27 (Dense)            (None, 3651)              14607651  \n",
            "                                                                 \n",
            " dropout_25 (Dropout)        (None, 3651)              0         \n",
            "                                                                 \n",
            " dense_28 (Dense)            (None, 3275)              11960300  \n",
            "                                                                 \n",
            " dropout_26 (Dropout)        (None, 3275)              0         \n",
            "                                                                 \n",
            " dense_29 (Dense)            (None, 2742)              8982792   \n",
            "                                                                 \n",
            " dropout_27 (Dropout)        (None, 2742)              0         \n",
            "                                                                 \n",
            " dense_30 (Dense)            (None, 2392)              6561256   \n",
            "                                                                 \n",
            " dropout_28 (Dropout)        (None, 2392)              0         \n",
            "                                                                 \n",
            " dense_31 (Dense)            (None, 1874)              4484482   \n",
            "                                                                 \n",
            " dropout_29 (Dropout)        (None, 1874)              0         \n",
            "                                                                 \n",
            " dense_32 (Dense)            (None, 1278)              2396250   \n",
            "                                                                 \n",
            " dropout_30 (Dropout)        (None, 1278)              0         \n",
            "                                                                 \n",
            " dense_33 (Dense)            (None, 713)               911927    \n",
            "                                                                 \n",
            " dropout_31 (Dropout)        (None, 713)               0         \n",
            "                                                                 \n",
            " dense_34 (Dense)            (None, 395)               282030    \n",
            "                                                                 \n",
            " dropout_32 (Dropout)        (None, 395)               0         \n",
            "                                                                 \n",
            " dense_35 (Dense)            (None, 132)               52272     \n",
            "                                                                 \n",
            " dropout_33 (Dropout)        (None, 132)               0         \n",
            "                                                                 \n",
            " dense_36 (Dense)            (None, 63)                8379      \n",
            "                                                                 \n",
            " dropout_34 (Dropout)        (None, 63)                0         \n",
            "                                                                 \n",
            " dense_37 (Dense)            (None, 18)                1152      \n",
            "                                                                 \n",
            " dropout_35 (Dropout)        (None, 18)                0         \n",
            "                                                                 \n",
            " dense_38 (Dense)            (None, 5)                 95        \n",
            "                                                                 \n",
            "=================================================================\n",
            "Total params: 66,252,586\n",
            "Trainable params: 66,252,586\n",
            "Non-trainable params: 0\n",
            "_________________________________________________________________\n"
          ]
        }
      ]
    },
    {
      "cell_type": "markdown",
      "source": [
        "## Entrenamiento de la Red Neuronal"
      ],
      "metadata": {
        "id": "kQ0rY3uQVq_c"
      }
    },
    {
      "cell_type": "markdown",
      "source": [
        "#### <a name=\"Escritura\">Entrenar la red neuronal</a>"
      ],
      "metadata": {
        "id": "jMNIP9QyVtiU"
      }
    },
    {
      "cell_type": "code",
      "source": [
        "history = model.fit(X_matrix_train, Y_matrix_train, batch_size=15, epochs=5, verbose=2, validation_data=(X_matrix_test, Y_matrix_test))"
      ],
      "metadata": {
        "colab": {
          "base_uri": "https://localhost:8080/"
        },
        "id": "Wcf0EuEKVv29",
        "outputId": "9af23da7-bc92-4f50-bf04-2f01802f28f4"
      },
      "execution_count": null,
      "outputs": [
        {
          "output_type": "stream",
          "name": "stdout",
          "text": [
            "Epoch 1/5\n",
            "2785/2785 - 45s - loss: 1.2913 - accuracy: 0.4463 - val_loss: 1.0887 - val_accuracy: 0.5594 - 45s/epoch - 16ms/step\n",
            "Epoch 2/5\n",
            "2785/2785 - 44s - loss: 0.9863 - accuracy: 0.6217 - val_loss: 1.0031 - val_accuracy: 0.6567 - 44s/epoch - 16ms/step\n",
            "Epoch 3/5\n",
            "2785/2785 - 44s - loss: 0.7997 - accuracy: 0.7222 - val_loss: 1.1514 - val_accuracy: 0.6570 - 44s/epoch - 16ms/step\n",
            "Epoch 4/5\n",
            "2785/2785 - 44s - loss: 0.6191 - accuracy: 0.8015 - val_loss: 1.2567 - val_accuracy: 0.6538 - 44s/epoch - 16ms/step\n",
            "Epoch 5/5\n",
            "2785/2785 - 44s - loss: 0.4811 - accuracy: 0.8583 - val_loss: 2.7011 - val_accuracy: 0.6669 - 44s/epoch - 16ms/step\n"
          ]
        }
      ]
    },
    {
      "cell_type": "markdown",
      "source": [
        "#### <a name=\"Escritura\">Graficar la función de perdida</a>"
      ],
      "metadata": {
        "id": "EBtqDRKvVyYk"
      }
    },
    {
      "cell_type": "code",
      "source": [
        "%matplotlib inline\n",
        "# Pintamos las métricas por epoch\n",
        "def plot_metric(history, name, remove_first=0):\n",
        "    metric_train = np.array(history.history[name])[remove_first:]\n",
        "    metric_test = np.array(history.history['val_{}'.format(name)])[remove_first:]\n",
        "    acum_avg_metric_train = (np.cumsum(metric_train) / (np.arange(metric_train.shape[-1]) + 1))[remove_first:]\n",
        "    acum_avg_metric_test = (np.cumsum(metric_test) / (np.arange(metric_test.shape[-1]) + 1))[remove_first:]\n",
        "    plt.figure(figsize=(20, 8))\n",
        "    plt.subplot(1, 2, 1)\n",
        "    plt.title('{} - Epochs'.format(name))\n",
        "    plt.plot(metric_train, label='{} Train'.format(name))\n",
        "    plt.plot(metric_test, label='{} Test'.format(name))\n",
        "    plt.grid()\n",
        "    plt.legend(loc='upper center')\n",
        "    plt.subplot(1, 2, 2)\n",
        "    plt.title('AVG ACCUMULATIVE {} - Epochs'.format(name))\n",
        "    plt.plot(acum_avg_metric_train, label='{} Train'.format(name))\n",
        "    plt.plot(acum_avg_metric_test, label='{} Test'.format(name))\n",
        "    plt.grid()\n",
        "    plt.legend(loc='upper center')\n",
        "    plt.show()"
      ],
      "metadata": {
        "id": "0XxE2UkfV0gM"
      },
      "execution_count": null,
      "outputs": []
    },
    {
      "cell_type": "code",
      "source": [
        "plot_metric(history=history, name='loss')"
      ],
      "metadata": {
        "colab": {
          "base_uri": "https://localhost:8080/",
          "height": 499
        },
        "id": "bsb8F9d-V3A8",
        "outputId": "e3707aa8-985d-4b58-aeab-a86f987707bf"
      },
      "execution_count": null,
      "outputs": [
        {
          "output_type": "display_data",
          "data": {
            "text/plain": [
              "<Figure size 1440x576 with 2 Axes>"
            ],
            "image/png": "[encoded data removed]"
          },
          "metadata": {
            "needs_background": "light"
          }
        }
      ]
    },
    {
      "cell_type": "markdown",
      "source": [
        "#### <a name=\"Escritura\">Graficar la función de accuracy</a>"
      ],
      "metadata": {
        "id": "BtMaQz_gV2ls"
      }
    },
    {
      "cell_type": "code",
      "source": [
        "plot_metric(history=history, name='accuracy')"
      ],
      "metadata": {
        "colab": {
          "base_uri": "https://localhost:8080/",
          "height": 499
        },
        "id": "r8dMY3gkV6lM",
        "outputId": "884f5fcb-7d0a-4a94-c91b-e320d5ff6d67"
      },
      "execution_count": null,
      "outputs": [
        {
          "output_type": "display_data",
          "data": {
            "text/plain": [
              "<Figure size 1440x576 with 2 Axes>"
            ],
            "image/png": "[encoded data removed]"
          },
          "metadata": {
            "needs_background": "light"
          }
        }
      ]
    },
    {
      "cell_type": "markdown",
      "source": [
        "## Guardar Modelo Entrenado"
      ],
      "metadata": {
        "id": "1sNidtr6V8JE"
      }
    },
    {
      "cell_type": "code",
      "source": [
        "joblib.dump(history,'/content/drive/My Drive/Procesamiento de Lenguaje Natural/Redes Neuronales Entrenadas/Modelo_Entrenado_Red_Neuronal.pkl')"
      ],
      "metadata": {
        "colab": {
          "base_uri": "https://localhost:8080/"
        },
        "id": "GKIC57NdV-Ic",
        "outputId": "f396468c-28c3-4365-d6a0-fe40349f6fab"
      },
      "execution_count": null,
      "outputs": [
        {
          "output_type": "execute_result",
          "data": {
            "text/plain": [
              "['/content/drive/My Drive/Procesamiento de Lenguaje Natural/Redes Neuronales Entrenadas/Modelo_Entrenado_Red_Neuronal.pkl']"
            ]
          },
          "metadata": {},
          "execution_count": 44
        }
      ]
    },
    {
      "cell_type": "markdown",
      "source": [
        "## Evaluación del Modelo"
      ],
      "metadata": {
        "id": "oY7rPjZmWBpE"
      }
    },
    {
      "cell_type": "markdown",
      "source": [
        "#### <a name=\"Escritura\">Calcular las diferentes métricas</a>"
      ],
      "metadata": {
        "id": "2Y-jcfxBV_9U"
      }
    },
    {
      "cell_type": "code",
      "source": [
        "Y_true = encoder.inverse_transform(Y_matrix_test.reshape(-1))\n",
        "X_pred = model.predict(X_matrix_test)\n",
        "X_pred_train = model.predict(X_matrix_train)\n",
        "Y_pred = np.argmax(X_pred,axis=1)\n",
        "Y_pred_train = np.argmax(X_pred_train,axis=1)\n",
        "Y_pred = encoder.inverse_transform(Y_pred.reshape(-1))\n",
        "\n",
        "print('Accuracy: {acc:0.4f}'.format(acc=accuracy_score(y_true=Y_true, y_pred=Y_pred)))\n",
        "print('F1: {f1:0.4f}'.format(f1=f1_score(y_true=Y_true, y_pred=Y_pred, average='weighted')))\n",
        "print('Precision: {pre:0.4f}'.format(pre=precision_score(y_true=Y_true, y_pred=Y_pred, average='weighted')))\n",
        "print('Recall: {rec:0.4f}'.format(rec=recall_score(y_true=Y_true, y_pred=Y_pred, average='weighted')))\n",
        "print(classification_report(y_true=Y_true, y_pred=Y_pred))\n",
        "Labels = ['Extremely Negative', 'Negative', 'Neutral', 'Positive', 'Extremely Positive']\n",
        "confusion_matrix_test = confusion_matrix(y_true=Y_true,\n",
        "                                         y_pred=Y_pred,\n",
        "                                         labels=Labels)\n",
        "confusion_matrix_train = confusion_matrix(y_true=encoder.inverse_transform(Y_matrix_train.reshape(-1)), \n",
        "                                          y_pred=encoder.inverse_transform(Y_pred_train), \n",
        "                                          labels=Labels)"
      ],
      "metadata": {
        "colab": {
          "base_uri": "https://localhost:8080/"
        },
        "id": "9oxo-NDnWDxd",
        "outputId": "9bd7bcf4-34fc-4b06-915f-5e6b7af90161"
      },
      "execution_count": null,
      "outputs": [
        {
          "output_type": "stream",
          "name": "stdout",
          "text": [
            "Accuracy: 0.6669\n",
            "F1: 0.6683\n",
            "Precision: 0.6733\n",
            "Recall: 0.6669\n",
            "                    precision    recall  f1-score   support\n",
            "\n",
            "Extremely Negative       0.72      0.66      0.69       384\n",
            "Extremely Positive       0.76      0.65      0.70       490\n",
            "          Negative       0.60      0.66      0.63       775\n",
            "           Neutral       0.74      0.68      0.71       615\n",
            "          Positive       0.63      0.68      0.65       882\n",
            "\n",
            "          accuracy                           0.67      3146\n",
            "         macro avg       0.69      0.67      0.67      3146\n",
            "      weighted avg       0.67      0.67      0.67      3146\n",
            "\n"
          ]
        }
      ]
    },
    {
      "cell_type": "markdown",
      "source": [
        "#### <a name=\"Escritura\">Mostrar las matrices de confusión</a>"
      ],
      "metadata": {
        "id": "fenKtSZWWHed"
      }
    },
    {
      "cell_type": "code",
      "source": [
        "%matplotlib inline\n",
        "\n",
        "def plot_confusion_matrix(cm, classes, title, cmap=plt.cm.Blues):\n",
        "    plt.imshow(cm, interpolation='nearest', cmap=cmap)\n",
        "    plt.title(title)\n",
        "    plt.colorbar()\n",
        "    tick_marks = np.arange(len(classes))\n",
        "    plt.xticks(tick_marks, classes, rotation=45)\n",
        "    plt.yticks(tick_marks, classes)\n",
        "\n",
        "    thresh = cm.max() / 2.\n",
        "    for i, j in itertools.product(range(cm.shape[0]), range(cm.shape[1])):\n",
        "        plt.text(j, i, format(cm[i, j], 'd'), horizontalalignment=\"center\",\n",
        "                 color=\"white\" if cm[i, j] > thresh else \"black\")\n",
        "\n",
        "    plt.tight_layout()\n",
        "    plt.ylabel('True label')\n",
        "    plt.xlabel('Predicted label')\n",
        "\n",
        "plt.figure(figsize=(16, 6))\n",
        "plt.subplot(1, 2, 1)\n",
        "plot_confusion_matrix(confusion_matrix_train, classes=Labels, title='Matriz de Confusión de Datos Train')\n",
        "plt.subplot(1, 2, 2)\n",
        "plot_confusion_matrix(confusion_matrix_test, classes=Labels, title='Matriz de Confusión de Datos Test')\n",
        "plt.show()"
      ],
      "metadata": {
        "colab": {
          "base_uri": "https://localhost:8080/",
          "height": 441
        },
        "id": "xLBMiKfNWIC1",
        "outputId": "616d098a-5be1-4c84-f5f4-89ce16e4cc1a"
      },
      "execution_count": null,
      "outputs": [
        {
          "output_type": "display_data",
          "data": {
            "text/plain": [
              "<Figure size 1152x432 with 4 Axes>"
            ],
            "image/png": "[encoded data removed]"
          },
          "metadata": {
            "needs_background": "light"
          }
        }
      ]
    }
  ]
}